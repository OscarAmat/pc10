{
 "cells": [
  {
   "cell_type": "code",
   "execution_count": 1,
   "id": "3856a2f8",
   "metadata": {},
   "outputs": [],
   "source": [
    "import pandas as pd"
   ]
  },
  {
   "cell_type": "code",
   "execution_count": 64,
   "id": "49192671",
   "metadata": {},
   "outputs": [],
   "source": [
    "data=pd.read_excel('data/reactiva.xlsx',sheet_name=\"TRANSFERENCIAS 2020\",header=0)"
   ]
  },
  {
   "cell_type": "code",
   "execution_count": 18,
   "id": "a90ff06b",
   "metadata": {},
   "outputs": [
    {
     "data": {
      "text/html": [
       "<div>\n",
       "<style scoped>\n",
       "    .dataframe tbody tr th:only-of-type {\n",
       "        vertical-align: middle;\n",
       "    }\n",
       "\n",
       "    .dataframe tbody tr th {\n",
       "        vertical-align: top;\n",
       "    }\n",
       "\n",
       "    .dataframe thead th {\n",
       "        text-align: right;\n",
       "    }\n",
       "</style>\n",
       "<table border=\"1\" class=\"dataframe\">\n",
       "  <thead>\n",
       "    <tr style=\"text-align: right;\">\n",
       "      <th></th>\n",
       "      <th>ID</th>\n",
       "      <th>CODIGO PAIS</th>\n",
       "      <th>CODIGO ENTIDAD</th>\n",
       "      <th>UBIGEO</th>\n",
       "      <th>SNIP</th>\n",
       "      <th>CUI</th>\n",
       "      <th>REGION</th>\n",
       "      <th>PROVINCIA</th>\n",
       "      <th>DISTRITO</th>\n",
       "      <th>PROYECTO</th>\n",
       "      <th>...</th>\n",
       "      <th>AMBITO</th>\n",
       "      <th>UNIDAD EJECUTORA</th>\n",
       "      <th>TOTAL EMPLEOS</th>\n",
       "      <th>POBLACION BENEFICIARIA</th>\n",
       "      <th>TIPOLOGIA</th>\n",
       "      <th>TIPO MONEDA</th>\n",
       "      <th>MONTO DE INVERSIÓN</th>\n",
       "      <th>TIPO MONEDA.1</th>\n",
       "      <th>MONTO DE TRANSFERENCIA 2020</th>\n",
       "      <th>ESTADO</th>\n",
       "    </tr>\n",
       "  </thead>\n",
       "  <tbody>\n",
       "    <tr>\n",
       "      <th>0</th>\n",
       "      <td>1</td>\n",
       "      <td>PE</td>\n",
       "      <td>11476</td>\n",
       "      <td>120127</td>\n",
       "      <td>346548</td>\n",
       "      <td>2307983</td>\n",
       "      <td>JUNIN</td>\n",
       "      <td>HUANCAYO</td>\n",
       "      <td>QUICHUAY</td>\n",
       "      <td>MEJORAMIENTO DE PISTAS Y VEREDAS EN LA CA. LIM...</td>\n",
       "      <td>...</td>\n",
       "      <td>URBANO</td>\n",
       "      <td>MUNICIPALIDAD DISTRITAL DE QUICHUAY</td>\n",
       "      <td>121</td>\n",
       "      <td>1529</td>\n",
       "      <td>Pista y Vereda</td>\n",
       "      <td>PEN</td>\n",
       "      <td>4105693.00</td>\n",
       "      <td>PEN</td>\n",
       "      <td>4105693</td>\n",
       "      <td>En Ejecución</td>\n",
       "    </tr>\n",
       "    <tr>\n",
       "      <th>1</th>\n",
       "      <td>2</td>\n",
       "      <td>PE</td>\n",
       "      <td>11476</td>\n",
       "      <td>90612</td>\n",
       "      <td>213528</td>\n",
       "      <td>2215425</td>\n",
       "      <td>HUANCAVELICA</td>\n",
       "      <td>HUAYTARA</td>\n",
       "      <td>SAN ISIDRO</td>\n",
       "      <td>MEJORAMIENTO VIAL DEL CERCADO DE LA LOCALIDAD ...</td>\n",
       "      <td>...</td>\n",
       "      <td>RURAL</td>\n",
       "      <td>MUNICIPALIDAD DISTRITAL DE SAN ISIDRO - HUIRPA...</td>\n",
       "      <td>63</td>\n",
       "      <td>648</td>\n",
       "      <td>Pista y Vereda</td>\n",
       "      <td>PEN</td>\n",
       "      <td>2120069.47</td>\n",
       "      <td>PEN</td>\n",
       "      <td>413572</td>\n",
       "      <td>En Ejecución</td>\n",
       "    </tr>\n",
       "    <tr>\n",
       "      <th>2</th>\n",
       "      <td>3</td>\n",
       "      <td>PE</td>\n",
       "      <td>11476</td>\n",
       "      <td>60501</td>\n",
       "      <td>321607</td>\n",
       "      <td>2276250</td>\n",
       "      <td>CAJAMARCA</td>\n",
       "      <td>CONTUMAZA</td>\n",
       "      <td>CONTUMAZA</td>\n",
       "      <td>CREACION DEL SERVICIO DE TRANSITABILIDAD VEHIC...</td>\n",
       "      <td>...</td>\n",
       "      <td>URBANO</td>\n",
       "      <td>MUNICIPALIDAD PROVINCIAL DE CONTUMAZA</td>\n",
       "      <td>92</td>\n",
       "      <td>645</td>\n",
       "      <td>Pista y Vereda</td>\n",
       "      <td>PEN</td>\n",
       "      <td>3157699.42</td>\n",
       "      <td>PEN</td>\n",
       "      <td>1219289</td>\n",
       "      <td>Concluido</td>\n",
       "    </tr>\n",
       "  </tbody>\n",
       "</table>\n",
       "<p>3 rows × 21 columns</p>\n",
       "</div>"
      ],
      "text/plain": [
       "   ID CODIGO PAIS  CODIGO ENTIDAD  UBIGEO    SNIP      CUI        REGION  \\\n",
       "0   1          PE           11476  120127  346548  2307983         JUNIN   \n",
       "1   2          PE           11476   90612  213528  2215425  HUANCAVELICA   \n",
       "2   3          PE           11476   60501  321607  2276250     CAJAMARCA   \n",
       "\n",
       "   PROVINCIA    DISTRITO                                           PROYECTO  \\\n",
       "0   HUANCAYO    QUICHUAY  MEJORAMIENTO DE PISTAS Y VEREDAS EN LA CA. LIM...   \n",
       "1   HUAYTARA  SAN ISIDRO  MEJORAMIENTO VIAL DEL CERCADO DE LA LOCALIDAD ...   \n",
       "2  CONTUMAZA   CONTUMAZA  CREACION DEL SERVICIO DE TRANSITABILIDAD VEHIC...   \n",
       "\n",
       "   ...  AMBITO                                   UNIDAD EJECUTORA  \\\n",
       "0  ...  URBANO                MUNICIPALIDAD DISTRITAL DE QUICHUAY   \n",
       "1  ...   RURAL  MUNICIPALIDAD DISTRITAL DE SAN ISIDRO - HUIRPA...   \n",
       "2  ...  URBANO              MUNICIPALIDAD PROVINCIAL DE CONTUMAZA   \n",
       "\n",
       "  TOTAL EMPLEOS  POBLACION BENEFICIARIA       TIPOLOGIA TIPO MONEDA  \\\n",
       "0           121                    1529  Pista y Vereda         PEN   \n",
       "1            63                     648  Pista y Vereda         PEN   \n",
       "2            92                     645  Pista y Vereda         PEN   \n",
       "\n",
       "  MONTO DE INVERSIÓN  TIPO MONEDA.1 MONTO DE TRANSFERENCIA 2020        ESTADO  \n",
       "0         4105693.00            PEN                     4105693  En Ejecución  \n",
       "1         2120069.47            PEN                      413572  En Ejecución  \n",
       "2         3157699.42            PEN                     1219289     Concluido  \n",
       "\n",
       "[3 rows x 21 columns]"
      ]
     },
     "execution_count": 18,
     "metadata": {},
     "output_type": "execute_result"
    }
   ],
   "source": [
    "data.head(3)"
   ]
  },
  {
   "cell_type": "code",
   "execution_count": 19,
   "id": "d4813403",
   "metadata": {},
   "outputs": [
    {
     "data": {
      "text/plain": [
       "Index(['ID', 'CODIGO PAIS', 'CODIGO ENTIDAD', 'UBIGEO', 'SNIP', 'CUI',\n",
       "       'REGION', 'PROVINCIA', 'DISTRITO', 'PROYECTO', 'DISPOSITIVO LEGAL',\n",
       "       'AMBITO', 'UNIDAD EJECUTORA', 'TOTAL EMPLEOS', 'POBLACION BENEFICIARIA',\n",
       "       'TIPOLOGIA', 'TIPO MONEDA', 'MONTO DE INVERSIÓN', 'TIPO MONEDA.1',\n",
       "       'MONTO DE TRANSFERENCIA 2020', 'ESTADO'],\n",
       "      dtype='object')"
      ]
     },
     "execution_count": 19,
     "metadata": {},
     "output_type": "execute_result"
    }
   ],
   "source": [
    "data.columns"
   ]
  },
  {
   "cell_type": "code",
   "execution_count": 65,
   "id": "e50ce4fd",
   "metadata": {},
   "outputs": [],
   "source": [
    "from unidecode import unidecode"
   ]
  },
  {
   "cell_type": "code",
   "execution_count": 66,
   "id": "c5e0edb3",
   "metadata": {},
   "outputs": [],
   "source": [
    "def eliminar_tildes(texto):\n",
    "    return unidecode(texto)"
   ]
  },
  {
   "cell_type": "code",
   "execution_count": 67,
   "id": "4d7ea1b5",
   "metadata": {},
   "outputs": [],
   "source": [
    "def clean_column_name(name):\n",
    "    # Remove spaces and tildes\n",
    "    cleaned_name = name.replace(' ', '').lower()\n",
    "    return cleaned_name"
   ]
  },
  {
   "cell_type": "code",
   "execution_count": 68,
   "id": "5e48952d",
   "metadata": {},
   "outputs": [
    {
     "data": {
      "text/plain": [
       "Index(['ID', 'CODIGO PAIS', 'CODIGO ENTIDAD', 'UBIGEO', 'SNIP', 'CUI',\n",
       "       'REGION', 'PROVINCIA', 'DISTRITO', 'PROYECTO', 'DISPOSITIVO LEGAL',\n",
       "       'AMBITO', 'UNIDAD EJECUTORA', 'TOTAL EMPLEOS', 'POBLACION BENEFICIARIA',\n",
       "       'TIPOLOGIA', 'TIPO MONEDA', 'MONTO DE INVERSIÓN', 'TIPO MONEDA.1',\n",
       "       'MONTO DE TRANSFERENCIA 2020', 'ESTADO'],\n",
       "      dtype='object')"
      ]
     },
     "execution_count": 68,
     "metadata": {},
     "output_type": "execute_result"
    }
   ],
   "source": [
    "data.columns"
   ]
  },
  {
   "cell_type": "code",
   "execution_count": 69,
   "id": "62b33570",
   "metadata": {},
   "outputs": [],
   "source": [
    "data.rename(columns=eliminar_tildes, inplace=True)\n",
    "data.rename(columns=clean_column_name, inplace=True)"
   ]
  },
  {
   "cell_type": "code",
   "execution_count": 70,
   "id": "9adcca95",
   "metadata": {},
   "outputs": [
    {
     "data": {
      "text/plain": [
       "Index(['id', 'codigopais', 'codigoentidad', 'ubigeo', 'snip', 'cui', 'region',\n",
       "       'provincia', 'distrito', 'proyecto', 'dispositivolegal', 'ambito',\n",
       "       'unidadejecutora', 'totalempleos', 'poblacionbeneficiaria', 'tipologia',\n",
       "       'tipomoneda', 'montodeinversion', 'tipomoneda.1',\n",
       "       'montodetransferencia2020', 'estado'],\n",
       "      dtype='object')"
      ]
     },
     "execution_count": 70,
     "metadata": {},
     "output_type": "execute_result"
    }
   ],
   "source": [
    "data.columns"
   ]
  },
  {
   "cell_type": "code",
   "execution_count": 71,
   "id": "39f0c08b",
   "metadata": {},
   "outputs": [],
   "source": [
    "del data['id']\n",
    "del data['tipomoneda']"
   ]
  },
  {
   "cell_type": "code",
   "execution_count": 72,
   "id": "f6ebe3ef",
   "metadata": {},
   "outputs": [
    {
     "data": {
      "text/plain": [
       "Index(['codigopais', 'codigoentidad', 'ubigeo', 'snip', 'cui', 'region',\n",
       "       'provincia', 'distrito', 'proyecto', 'dispositivolegal', 'ambito',\n",
       "       'unidadejecutora', 'totalempleos', 'poblacionbeneficiaria', 'tipologia',\n",
       "       'montodeinversion', 'tipomoneda.1', 'montodetransferencia2020',\n",
       "       'estado'],\n",
       "      dtype='object')"
      ]
     },
     "execution_count": 72,
     "metadata": {},
     "output_type": "execute_result"
    }
   ],
   "source": [
    "data.columns"
   ]
  },
  {
   "cell_type": "code",
   "execution_count": 73,
   "id": "2666b54d",
   "metadata": {},
   "outputs": [],
   "source": [
    "data['dispositivolegal']=data['dispositivolegal'].replace({'0m':''},regex=True)"
   ]
  },
  {
   "cell_type": "code",
   "execution_count": null,
   "id": "cbbb122d",
   "metadata": {},
   "outputs": [],
   "source": []
  },
  {
   "cell_type": "code",
   "execution_count": 74,
   "id": "88574eb8",
   "metadata": {},
   "outputs": [],
   "source": [
    "import requests\n",
    "url=\"https://api.apis.net.pe/v1/tipo-cambio-sunat\"\n",
    "response=requests.get(url)\n",
    "\n",
    "# 2. Recupero la informacion como json\n",
    "respuesta = response.json()"
   ]
  },
  {
   "cell_type": "code",
   "execution_count": 75,
   "id": "4e0b5f9e",
   "metadata": {},
   "outputs": [
    {
     "data": {
      "text/plain": [
       "3.803"
      ]
     },
     "execution_count": 75,
     "metadata": {},
     "output_type": "execute_result"
    }
   ],
   "source": [
    "respuesta['compra']"
   ]
  },
  {
   "cell_type": "code",
   "execution_count": 76,
   "id": "9fae4632",
   "metadata": {},
   "outputs": [],
   "source": [
    "data['montodeinversion_usd']=data['montodeinversion'].apply(lambda x:x/respuesta['compra'])"
   ]
  },
  {
   "cell_type": "code",
   "execution_count": 77,
   "id": "85893170",
   "metadata": {},
   "outputs": [],
   "source": [
    "data['montodetransferencia_usd']=data['montodetransferencia2020'].apply(lambda x:x/respuesta['compra'])"
   ]
  },
  {
   "cell_type": "code",
   "execution_count": 78,
   "id": "dee60afb",
   "metadata": {},
   "outputs": [
    {
     "data": {
      "text/html": [
       "<div>\n",
       "<style scoped>\n",
       "    .dataframe tbody tr th:only-of-type {\n",
       "        vertical-align: middle;\n",
       "    }\n",
       "\n",
       "    .dataframe tbody tr th {\n",
       "        vertical-align: top;\n",
       "    }\n",
       "\n",
       "    .dataframe thead th {\n",
       "        text-align: right;\n",
       "    }\n",
       "</style>\n",
       "<table border=\"1\" class=\"dataframe\">\n",
       "  <thead>\n",
       "    <tr style=\"text-align: right;\">\n",
       "      <th></th>\n",
       "      <th>codigopais</th>\n",
       "      <th>codigoentidad</th>\n",
       "      <th>ubigeo</th>\n",
       "      <th>snip</th>\n",
       "      <th>cui</th>\n",
       "      <th>region</th>\n",
       "      <th>provincia</th>\n",
       "      <th>distrito</th>\n",
       "      <th>proyecto</th>\n",
       "      <th>dispositivolegal</th>\n",
       "      <th>...</th>\n",
       "      <th>unidadejecutora</th>\n",
       "      <th>totalempleos</th>\n",
       "      <th>poblacionbeneficiaria</th>\n",
       "      <th>tipologia</th>\n",
       "      <th>montodeinversion</th>\n",
       "      <th>tipomoneda.1</th>\n",
       "      <th>montodetransferencia2020</th>\n",
       "      <th>estado</th>\n",
       "      <th>montodeinversion_usd</th>\n",
       "      <th>montodetransferencia_usd</th>\n",
       "    </tr>\n",
       "  </thead>\n",
       "  <tbody>\n",
       "    <tr>\n",
       "      <th>0</th>\n",
       "      <td>PE</td>\n",
       "      <td>11476</td>\n",
       "      <td>120127</td>\n",
       "      <td>346548</td>\n",
       "      <td>2307983</td>\n",
       "      <td>JUNIN</td>\n",
       "      <td>HUANCAYO</td>\n",
       "      <td>QUICHUAY</td>\n",
       "      <td>MEJORAMIENTO DE PISTAS Y VEREDAS EN LA CA. LIM...</td>\n",
       "      <td>DU N° 070-2020,</td>\n",
       "      <td>...</td>\n",
       "      <td>MUNICIPALIDAD DISTRITAL DE QUICHUAY</td>\n",
       "      <td>121</td>\n",
       "      <td>1529</td>\n",
       "      <td>Pista y Vereda</td>\n",
       "      <td>4105693.00</td>\n",
       "      <td>PEN</td>\n",
       "      <td>4105693</td>\n",
       "      <td>En Ejecución</td>\n",
       "      <td>1.079593e+06</td>\n",
       "      <td>1.079593e+06</td>\n",
       "    </tr>\n",
       "    <tr>\n",
       "      <th>1</th>\n",
       "      <td>PE</td>\n",
       "      <td>11476</td>\n",
       "      <td>90612</td>\n",
       "      <td>213528</td>\n",
       "      <td>2215425</td>\n",
       "      <td>HUANCAVELICA</td>\n",
       "      <td>HUAYTARA</td>\n",
       "      <td>SAN ISIDRO</td>\n",
       "      <td>MEJORAMIENTO VIAL DEL CERCADO DE LA LOCALIDAD ...</td>\n",
       "      <td>DU N° 070-2020,</td>\n",
       "      <td>...</td>\n",
       "      <td>MUNICIPALIDAD DISTRITAL DE SAN ISIDRO - HUIRPA...</td>\n",
       "      <td>63</td>\n",
       "      <td>648</td>\n",
       "      <td>Pista y Vereda</td>\n",
       "      <td>2120069.47</td>\n",
       "      <td>PEN</td>\n",
       "      <td>413572</td>\n",
       "      <td>En Ejecución</td>\n",
       "      <td>5.574729e+05</td>\n",
       "      <td>1.087489e+05</td>\n",
       "    </tr>\n",
       "    <tr>\n",
       "      <th>2</th>\n",
       "      <td>PE</td>\n",
       "      <td>11476</td>\n",
       "      <td>60501</td>\n",
       "      <td>321607</td>\n",
       "      <td>2276250</td>\n",
       "      <td>CAJAMARCA</td>\n",
       "      <td>CONTUMAZA</td>\n",
       "      <td>CONTUMAZA</td>\n",
       "      <td>CREACION DEL SERVICIO DE TRANSITABILIDAD VEHIC...</td>\n",
       "      <td>DU N° 070-2020,</td>\n",
       "      <td>...</td>\n",
       "      <td>MUNICIPALIDAD PROVINCIAL DE CONTUMAZA</td>\n",
       "      <td>92</td>\n",
       "      <td>645</td>\n",
       "      <td>Pista y Vereda</td>\n",
       "      <td>3157699.42</td>\n",
       "      <td>PEN</td>\n",
       "      <td>1219289</td>\n",
       "      <td>Concluido</td>\n",
       "      <td>8.303180e+05</td>\n",
       "      <td>3.206124e+05</td>\n",
       "    </tr>\n",
       "    <tr>\n",
       "      <th>3</th>\n",
       "      <td>PE</td>\n",
       "      <td>11476</td>\n",
       "      <td>150133</td>\n",
       "      <td>2464086</td>\n",
       "      <td>2464086</td>\n",
       "      <td>LIMA</td>\n",
       "      <td>LIMA</td>\n",
       "      <td>SAN JUAN DE MIRAFLORES</td>\n",
       "      <td>CREACION DEL PARQUE INFANTIL VIRGEN DEL BUEN P...</td>\n",
       "      <td>DU N° 070-2020,</td>\n",
       "      <td>...</td>\n",
       "      <td>MUNICIPALIDAD DISTRITAL DE SAN JUAN DE MIRAFLORES</td>\n",
       "      <td>7</td>\n",
       "      <td>1857</td>\n",
       "      <td>Equipamiento Urbano</td>\n",
       "      <td>200853.00</td>\n",
       "      <td>PEN</td>\n",
       "      <td>200853</td>\n",
       "      <td>Concluido</td>\n",
       "      <td>5.281436e+04</td>\n",
       "      <td>5.281436e+04</td>\n",
       "    </tr>\n",
       "    <tr>\n",
       "      <th>4</th>\n",
       "      <td>PE</td>\n",
       "      <td>11476</td>\n",
       "      <td>150103</td>\n",
       "      <td>2434729</td>\n",
       "      <td>2434729</td>\n",
       "      <td>LIMA</td>\n",
       "      <td>LIMA</td>\n",
       "      <td>ATE</td>\n",
       "      <td>CREACION DEL SERVICIO DE ESPACIO PÚBLICO EN ÁR...</td>\n",
       "      <td>DU N° 070-2020,</td>\n",
       "      <td>...</td>\n",
       "      <td>MUNICIPALIDAD DISTRITAL DE ATE - VITARTE</td>\n",
       "      <td>8</td>\n",
       "      <td>479</td>\n",
       "      <td>Equipamiento Urbano</td>\n",
       "      <td>237339.03</td>\n",
       "      <td>PEN</td>\n",
       "      <td>224339</td>\n",
       "      <td>Concluido</td>\n",
       "      <td>6.240837e+04</td>\n",
       "      <td>5.899001e+04</td>\n",
       "    </tr>\n",
       "  </tbody>\n",
       "</table>\n",
       "<p>5 rows × 21 columns</p>\n",
       "</div>"
      ],
      "text/plain": [
       "  codigopais  codigoentidad  ubigeo     snip      cui        region  \\\n",
       "0         PE          11476  120127   346548  2307983         JUNIN   \n",
       "1         PE          11476   90612   213528  2215425  HUANCAVELICA   \n",
       "2         PE          11476   60501   321607  2276250     CAJAMARCA   \n",
       "3         PE          11476  150133  2464086  2464086          LIMA   \n",
       "4         PE          11476  150103  2434729  2434729          LIMA   \n",
       "\n",
       "   provincia                distrito  \\\n",
       "0   HUANCAYO                QUICHUAY   \n",
       "1   HUAYTARA              SAN ISIDRO   \n",
       "2  CONTUMAZA               CONTUMAZA   \n",
       "3       LIMA  SAN JUAN DE MIRAFLORES   \n",
       "4       LIMA                     ATE   \n",
       "\n",
       "                                            proyecto  dispositivolegal  ...  \\\n",
       "0  MEJORAMIENTO DE PISTAS Y VEREDAS EN LA CA. LIM...  DU N° 070-2020,   ...   \n",
       "1  MEJORAMIENTO VIAL DEL CERCADO DE LA LOCALIDAD ...  DU N° 070-2020,   ...   \n",
       "2  CREACION DEL SERVICIO DE TRANSITABILIDAD VEHIC...  DU N° 070-2020,   ...   \n",
       "3  CREACION DEL PARQUE INFANTIL VIRGEN DEL BUEN P...  DU N° 070-2020,   ...   \n",
       "4  CREACION DEL SERVICIO DE ESPACIO PÚBLICO EN ÁR...  DU N° 070-2020,   ...   \n",
       "\n",
       "                                     unidadejecutora totalempleos  \\\n",
       "0                MUNICIPALIDAD DISTRITAL DE QUICHUAY          121   \n",
       "1  MUNICIPALIDAD DISTRITAL DE SAN ISIDRO - HUIRPA...           63   \n",
       "2              MUNICIPALIDAD PROVINCIAL DE CONTUMAZA           92   \n",
       "3  MUNICIPALIDAD DISTRITAL DE SAN JUAN DE MIRAFLORES            7   \n",
       "4           MUNICIPALIDAD DISTRITAL DE ATE - VITARTE            8   \n",
       "\n",
       "   poblacionbeneficiaria            tipologia montodeinversion  tipomoneda.1  \\\n",
       "0                   1529       Pista y Vereda       4105693.00           PEN   \n",
       "1                    648       Pista y Vereda       2120069.47           PEN   \n",
       "2                    645       Pista y Vereda       3157699.42           PEN   \n",
       "3                   1857  Equipamiento Urbano        200853.00           PEN   \n",
       "4                    479  Equipamiento Urbano        237339.03           PEN   \n",
       "\n",
       "  montodetransferencia2020        estado montodeinversion_usd  \\\n",
       "0                  4105693  En Ejecución         1.079593e+06   \n",
       "1                   413572  En Ejecución         5.574729e+05   \n",
       "2                  1219289     Concluido         8.303180e+05   \n",
       "3                   200853     Concluido         5.281436e+04   \n",
       "4                   224339     Concluido         6.240837e+04   \n",
       "\n",
       "   montodetransferencia_usd  \n",
       "0              1.079593e+06  \n",
       "1              1.087489e+05  \n",
       "2              3.206124e+05  \n",
       "3              5.281436e+04  \n",
       "4              5.899001e+04  \n",
       "\n",
       "[5 rows x 21 columns]"
      ]
     },
     "execution_count": 78,
     "metadata": {},
     "output_type": "execute_result"
    }
   ],
   "source": [
    "data.head()"
   ]
  },
  {
   "cell_type": "code",
   "execution_count": null,
   "id": "702f5316",
   "metadata": {},
   "outputs": [],
   "source": []
  },
  {
   "cell_type": "code",
   "execution_count": 52,
   "id": "5241db4f",
   "metadata": {},
   "outputs": [
    {
     "data": {
      "text/plain": [
       "Concluido                         324\n",
       "En Ejecución                      183\n",
       "Actos Previos                      14\n",
       "Convenio y/o Contrato Resuelto      4\n",
       "Name: estado, dtype: int64"
      ]
     },
     "execution_count": 52,
     "metadata": {},
     "output_type": "execute_result"
    }
   ],
   "source": [
    "data['estado'].value_counts()"
   ]
  },
  {
   "cell_type": "code",
   "execution_count": 53,
   "id": "6c15ac7b",
   "metadata": {},
   "outputs": [],
   "source": [
    "data['puntuacion_estado']=data['estado'].apply(lambda x: 1 if x=='Actos Previos' else ( 2 if x=='En Ejecución' else ( 3 if x=='Concluido' else 0)) )"
   ]
  },
  {
   "cell_type": "code",
   "execution_count": 55,
   "id": "989c7b7e",
   "metadata": {},
   "outputs": [
    {
     "data": {
      "text/plain": [
       "3    324\n",
       "2    183\n",
       "1     14\n",
       "0      4\n",
       "Name: puntuacion_estado, dtype: int64"
      ]
     },
     "execution_count": 55,
     "metadata": {},
     "output_type": "execute_result"
    }
   ],
   "source": [
    "data['puntuacion_estado'].value_counts()"
   ]
  },
  {
   "cell_type": "code",
   "execution_count": null,
   "id": "fd2c4955",
   "metadata": {},
   "outputs": [],
   "source": []
  }
 ],
 "metadata": {
  "kernelspec": {
   "display_name": "Python 3 (ipykernel)",
   "language": "python",
   "name": "python3"
  },
  "language_info": {
   "codemirror_mode": {
    "name": "ipython",
    "version": 3
   },
   "file_extension": ".py",
   "mimetype": "text/x-python",
   "name": "python",
   "nbconvert_exporter": "python",
   "pygments_lexer": "ipython3",
   "version": "3.9.12"
  }
 },
 "nbformat": 4,
 "nbformat_minor": 5
}
